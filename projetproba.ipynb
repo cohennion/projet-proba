{
 "cells": [
  {
   "cell_type": "markdown",
   "metadata": {},
   "source": [
    "# Projet numérique : câbles sous-marins\n",
    "\n",
    "Corentin Hennion, Léa Mailhol \n",
    "\n",
    "## Questions théoriques\n",
    "\n"
   ]
  },
  {
   "cell_type": "markdown",
   "metadata": {},
   "source": [
    "$\\underline{Question~1~:} $\n",
    "La loi forte des grands nombres nous autorise à estimer l'espérence conditionnelle par la moyenne empirique des simulations conditionnelles. "
   ]
  },
  {
   "cell_type": "markdown",
   "metadata": {},
   "source": [
    "$ \\underline{Question~2~:}$\n",
    "On note $\\textbf{Z} = \\begin{pmatrix} Z(x_{1})=z(x_{1}) \\\\ ...\\\\...\\\\ Z(x_{N})=z(x_{N}) \\end{pmatrix} $ le vecteur correspond aux variables aléatoires liées aux points de discrétisation sans observation et $\\textbf{W} = \\begin{pmatrix} Z(x_{j_1}) \\\\ ...\\\\...\\\\ Z(x_{j_n})\\end{pmatrix} $ le vecteur correspondant aux variables aléatoires liées aux points d'observation. \n",
    "\n",
    "On cherche la loi de la variable aléatoire $Z|W = w$ où w est le vecteurs des valeurs prises aux points d'observations.\n",
    "\n",
    "On utilise la résulats du chapitre Probabilité 4 car les vecteurs $\\textbf{Z}$ et $\\textbf{W}$ sont des vecteurs gaussiens à densité.\n",
    "\n",
    "On obtient que la foncton de densité de la variable $Z|W = w$ est : \n",
    "\n",
    "$$f_{Z|W = w}(x) = \\frac{1}{(2\\pi)^{(N+1)/2}\\sqrt{det(C)}}exp(-\\frac{1}{2}(x-m_{Z|W=w})^t C^{-1}(x-m_{Z|W=w}))$$\n",
    "\n",
    "\n",
    "Avec $ m_{Z|W=w} = \\mu - C_{Z,W}C_W^{-1}(w-\\mu) $ et $ C = \\Sigma - C_{Z,W}C_W^{-1}C_{W,Z}$\n",
    "\n",
    "La matrice $C_{W,Z}$ a pour coefficients les $C_{W,Z}[i,k] = \\sigma_{ij_k} = |x_i - x_{j_k}|$\n",
    "\n",
    "Donc $Z|W = w$ est un vecteur gaussien à densité d'espérence $ m_{Z|W=w}$ et de matrice de convariance $C$"
   ]
  },
  {
   "cell_type": "markdown",
   "metadata": {},
   "source": [
    "$ \\underline{Question~3~: }$ On prend $Y=(Y_1, ..., ..., Y_p)$ un vecteur de composantes gaussiennes indépendantes d'espérance nulle et de variance 1.\n",
    "\n",
    "Prenons $Z = m + RY$ avec $m$ vecteur de taille $p$ et $R$ une matrice de taille $p x p$. $Z$ est un vecteur gaussien par combinaison linéaire de vecteurs gaussiens.\n",
    "\n",
    "Alors chaque composante du vecteur $Z$ a pour espérance $E(Z_i) = m_i + E(\\sum_{j=0}^p R_{i,j}\\times Y_i) = m_i +\\sum_{j=0}^p R_{i,j}  E(Y_{j}) = m_{i}$\n",
    "\n",
    "Sa matrice de covariance est la matrice $C$ telle que $C_{i,j} = Cov(Z_i, Z_j) = E((Z_i - m_i)(Z_j - m_j)) = E(Z_iZ_j) - m^2 = \\sum_{k=0}^p\\sum_{l=0}^p r_{ik}r_{jl} E(Y_kY_l)$\n",
    "\n",
    "Or $E(Y_kY_l) = 0$ si $k\\ne l $ car les variables aléatoires sont indépendantes donc $C_{i,j} = \\sum_{k=0}^p r_{ik}r_{jk}$\n",
    "\n",
    "Au final, $Z$ est un vecteur gaussien d'espérance $m$ et de matrice de covariance est $C=RR^t$ "
   ]
  },
  {
   "cell_type": "markdown",
   "metadata": {},
   "source": [
    "$\\underline{ Question~4~:}$ L'algorithme de simulation conditionnelle va se dérouler comme suit :\n",
    "\n",
    "On cherche $P_Z$ et on utilise la formule des probabilités totales : $P_Z = \\sum_{w} P_{Z|W = w}P(W = w)$ avec Z et W définis en question 2.\n",
    "\n",
    "On connait les $P(W = w)$ et il nous faut calculer $P_{Z|W = w}$. Comme python ne peut simuler que des variables aléatoires gaussiennes d'espérance nulle et de variance 1, on doit se ramener à $Y_w$ qui est tel que $(Z|W = w) = (m + RY_w) $\n",
    "\n",
    "Pour cela on calcule $m$ avec l'expression donnée à la question 2 : $m = m_{Z|W=w}$\n",
    "Et pour $R$ on utilise la résolution python de la factorisation de Cholesky qui est définie par $C=RR^t$ avec $C$ la matrice de la question 2. \n",
    "\n",
    "On peut donc simuler la variable $Z|W = w$ en passant par $Y$ est on obtient finalement une simulation de $P_Z$."
   ]
  },
  {
   "cell_type": "markdown",
   "metadata": {},
   "source": [
    "## Implementation "
   ]
  },
  {
   "cell_type": "code",
   "execution_count": 3,
   "metadata": {},
   "outputs": [],
   "source": [
    "#Chargement de dépendances\n",
    "import numpy as np\n",
    "import matplotlib.pyplot as plt\n",
    "#Discrétisation\n",
    "A=0\n",
    "B=500\n",
    "N=101 #Nombre de points de discrétisation\n",
    "delta = int((B-A)/(N-1))\n",
    "discretization_indexes = np.arange(N)\n",
    "discretization = discretization_indexes*delta\n",
    "#Paramètres du modèle\n",
    "mu=-5\n",
    "a = 50\n",
    "sigma2 = 12\n",
    "#Données\n",
    "observation_indexes = [0,20,40,60,80,100]\n",
    "observation = np.array(observation_indexes) * delta\n",
    "depth = np.array([0,-4,-12.8,-1,-6.5,0])\n",
    "#Indices des composantes correspondant aux observations et aux componsantes non observées\n",
    "unknown_indexes=list(set(discretization_indexes)-set(observation_indexes))"
   ]
  },
  {
   "cell_type": "markdown",
   "metadata": {},
   "source": [
    "$ \\underline{ Question~1~:}$"
   ]
  },
  {
   "cell_type": "code",
   "execution_count": 4,
   "metadata": {},
   "outputs": [],
   "source": [
    "def cov(a , sigma2 , mat_dist) :\n",
    "    if type(mat_dist) == float or int :\n",
    "        return sigma2 * np.exp(-np.abs(mat_dist)/a)\n",
    "    else :\n",
    "        N , n = np.shape(mat_dist)\n",
    "        matcov = np.empty((N , n))\n",
    "        for i in range(N) :\n",
    "            for j in range(n) :\n",
    "                matcov[i, j] = sigma2 * np.exp(-np.abs(mat_dist[i, j])/a)\n",
    "        return matcov   "
   ]
  },
  {
   "cell_type": "markdown",
   "metadata": {},
   "source": [
    "$ \\underline{ Question~2~:}$"
   ]
  },
  {
   "cell_type": "code",
   "execution_count": 5,
   "metadata": {},
   "outputs": [
    {
     "name": "stdout",
     "output_type": "stream",
     "text": [
      "[[  0   5  10 ... 490 495 500]\n",
      " [  5   0   5 ... 485 490 495]\n",
      " [ 10   5   0 ... 480 485 490]\n",
      " ...\n",
      " [490 485 480 ...   0   5  10]\n",
      " [495 490 485 ...   5   0   5]\n",
      " [500 495 490 ...  10   5   0]]\n"
     ]
    }
   ],
   "source": [
    "#la matrice de distance est définie par mat_dist[i,k] = |x[i] - x[k]|\n",
    "mat_dist = np.array( [[np.abs(discretization[i]-discretization[j]) for i in range (N)] for j in range(N)])\n",
    "print(mat_dist)"
   ]
  },
  {
   "cell_type": "markdown",
   "metadata": {},
   "source": [
    "$ \\underline{ Question~3~:}$"
   ]
  },
  {
   "cell_type": "code",
   "execution_count": 6,
   "metadata": {},
   "outputs": [],
   "source": [
    "matcov_Z = cov(a, sigma2, mat_dist)"
   ]
  },
  {
   "cell_type": "markdown",
   "metadata": {},
   "source": [
    "$ \\underline{ Question~4~:}$"
   ]
  },
  {
   "cell_type": "code",
   "execution_count": 7,
   "metadata": {},
   "outputs": [],
   "source": [
    "n = len(unknown_indexes)\n",
    "k = len(observation_indexes)\n",
    "\n",
    "#Entre les observations \n",
    "mat_cov_obs = np.array( [[matcov_Z[obs1 , obs2] for obs1 in observation_indexes] for obs2 in observation_indexes])\n",
    "\n",
    "#Entre les observations et les inconnues\n",
    "mat_cov_inc_obs = np.array( [[matcov_Z[obs , unk] for obs in observation_indexes] for unk in unknown_indexes])\n",
    "\n",
    "#Entre les inconnues \n",
    "mat_cov_inc = np.array([[matcov_Z[unk1 , unk2] for unk1 in unknown_indexes] for unk2 in unknown_indexes])"
   ]
  },
  {
   "cell_type": "markdown",
   "metadata": {},
   "source": [
    "$ \\underline{ Question~5~:}$"
   ]
  },
  {
   "cell_type": "code",
   "execution_count": 8,
   "metadata": {},
   "outputs": [
    {
     "data": {
      "image/png": "[encoded data removed]",
      "text/plain": [
       "<Figure size 432x288 with 1 Axes>"
      ]
     },
     "metadata": {
      "needs_background": "light"
     },
     "output_type": "display_data"
    }
   ],
   "source": [
    "K = np.dot(mat_cov_inc_obs , np.linalg.inv(mat_cov_obs))\n",
    "esp_inc_sachant_obs = np.array([mu for i in range(n)]) + np.dot(K, (depth- np.array([mu for i in range(k)])))\n",
    "\n",
    "X = np.array(unknown_indexes) * delta\n",
    "plt.scatter(X, esp_inc_sachant_obs)\n",
    "plt.title(\"Moyenne des altitudes des composantes non observées\")\n",
    "plt.ylabel(\"Altitudes\")\n",
    "plt.xlabel(\"indices\")\n",
    "plt.show()"
   ]
  },
  {
   "cell_type": "markdown",
   "metadata": {},
   "source": [
    "$ \\underline{ Question~6~:}$"
   ]
  },
  {
   "cell_type": "code",
   "execution_count": 9,
   "metadata": {},
   "outputs": [
    {
     "data": {
      "image/png": "[encoded data removed]",
      "text/plain": [
       "<Figure size 432x288 with 1 Axes>"
      ]
     },
     "metadata": {
      "needs_background": "light"
     },
     "output_type": "display_data"
    }
   ],
   "source": [
    "C = mat_cov_inc - np.dot(K, np.transpose(mat_cov_inc_obs))\n",
    "\n",
    "Y = [C[i, i] for i in range(n)]\n",
    "plt.scatter(X, Y)\n",
    "plt.title(\"Diagonale de la matrice de covariance en fonction de la position\")\n",
    "plt.show()"
   ]
  },
  {
   "cell_type": "markdown",
   "metadata": {},
   "source": [
    "$ \\underline{ Question~7~:}$"
   ]
  },
  {
   "cell_type": "code",
   "execution_count": 10,
   "metadata": {},
   "outputs": [
    {
     "data": {
      "image/png": "[encoded data removed]",
      "text/plain": [
       "<Figure size 432x288 with 1 Axes>"
      ]
     },
     "metadata": {
      "needs_background": "light"
     },
     "output_type": "display_data"
    }
   ],
   "source": [
    "from random import gauss\n",
    "k = len(observation_indexes)\n",
    "\n",
    "def simul() : \n",
    "    R = np.linalg.cholesky(C)\n",
    "    Y = np.transpose(np.array([gauss(0,1) for k in range(n)]))\n",
    "    Z = list(esp_inc_sachant_obs + np.dot(R, Y))\n",
    "    for i in range(k) :\n",
    "        Z.insert(observation_indexes[i],depth[i])\n",
    "    return Z\n",
    "    \n",
    "Y_simul = simul()\n",
    "\n",
    "Y_esp_cond = list(esp_inc_sachant_obs)\n",
    "for i in range(k) :\n",
    "    Y_esp_cond.insert(observation_indexes[i],depth[i])\n",
    "plt.plot(discretization, Y_simul, label= 'Simulation')\n",
    "plt.plot(discretization, Y_esp_cond, label = 'Espérance conditionnelle')\n",
    "plt.legend()\n",
    "plt.show()"
   ]
  },
  {
   "cell_type": "markdown",
   "metadata": {},
   "source": [
    "$ \\underline{ Question~8~:}$"
   ]
  },
  {
   "cell_type": "code",
   "execution_count": 11,
   "metadata": {},
   "outputs": [
    {
     "name": "stdout",
     "output_type": "stream",
     "text": [
      "L = 493.34203215115303\n"
     ]
    }
   ],
   "source": [
    "def longueur(delta, depth) : \n",
    "    Z_simul = simul()\n",
    "    L = 0\n",
    "    for k in range(n-1) :\n",
    "        L += np.sqrt(delta**2 + (Z_simul[k+1] - Z_simul[k])**2)\n",
    "    return L\n",
    "\n",
    "print(\"L =\",longueur(delta, depth))"
   ]
  },
  {
   "cell_type": "markdown",
   "metadata": {},
   "source": [
    "$ \\underline{ Question~9~:}$"
   ]
  },
  {
   "cell_type": "code",
   "execution_count": 12,
   "metadata": {},
   "outputs": [
    {
     "name": "stdout",
     "output_type": "stream",
     "text": [
      "L_simul = 490.80720009137093\n",
      "L_esp = 471.52887805065376\n"
     ]
    }
   ],
   "source": [
    "def simul_longueur(n):\n",
    "    L_simul = 0\n",
    "    for j in range(n): \n",
    "        L_simul += longueur(delta, depth)  \n",
    "    return L_simul/n\n",
    "\n",
    "L_simul = simul_longueur(100) # espérance conditionnelle de la longueur estimée pour 100 simulations\n",
    "\n",
    "L_esp = 0 # longueur de l'espérance conditionelle\n",
    "esp = list(esp_inc_sachant_obs)\n",
    "for i in range(k):\n",
    "    esp.insert(observation_indexes[i],depth[i])\n",
    "for j in range(n-1):\n",
    "    L_esp += np.sqrt(delta**2 + (esp[j+1]-esp[j])**2) \n",
    "    \n",
    "print(\"L_simul =\",L_simul)\n",
    "print(\"L_esp =\", L_esp)"
   ]
  },
  {
   "cell_type": "markdown",
   "metadata": {},
   "source": [
    "L'espérance conditionnelle de la longueur est différente de la longeur de l'espérance conditionnelle."
   ]
  },
  {
   "cell_type": "markdown",
   "metadata": {},
   "source": [
    "$ \\underline{ Question~10~:}$"
   ]
  },
  {
   "cell_type": "code",
   "execution_count": null,
   "metadata": {},
   "outputs": [],
   "source": [
    "import matplotlib.axes as ax\n",
    "nb_simul = np.linspace(300, 5000, 50)\n",
    "\n",
    "Mn = np.array([simul_longueur(int(n)) for n in nb_simul])\n",
    "\n",
    "plt.plot(nb_simul, Mn)\n",
    "plt.title(\"Moyenne des longueurs du câble en fonction du nombre de simulations\")\n",
    "plt.show()"
   ]
  },
  {
   "cell_type": "markdown",
   "metadata": {},
   "source": [
    "$M_n$ tend vers la longueur de l'espérance de $Z$, cela vérifie la loi forte des grands nombres."
   ]
  },
  {
   "cell_type": "markdown",
   "metadata": {},
   "source": [
    "$ \\underline{ Question~11~:}$"
   ]
  },
  {
   "cell_type": "code",
   "execution_count": null,
   "metadata": {},
   "outputs": [],
   "source": [
    "plt.hist([simul_longueur(100) for i in range(100)], bins = 20, edgecolor = \"black\")\n",
    "plt.title(\"Histogramme des longueurs du câble\")\n",
    "plt.show()"
   ]
  },
  {
   "cell_type": "markdown",
   "metadata": {},
   "source": [
    "$ \\underline{ Question~12~:}$"
   ]
  },
  {
   "cell_type": "code",
   "execution_count": null,
   "metadata": {},
   "outputs": [],
   "source": [
    "def int_conf95(n) :\n",
    "    pop = [longueur(Delta, depth) for k in range(n)] #population étudiée : n longueurs simulées\n",
    "    ec_type = np.std(pop)\n",
    "    moy = np.average(pop)\n",
    "\n",
    "    return ([moy - 1.96*ec_type/np.sqrt(n), moy + 1.96*ec_type/np.sqrt(n)])\n",
    "\n",
    "print(\"L'intervalle de confiance à 95% est\",int_conf95(100))"
   ]
  },
  {
   "cell_type": "markdown",
   "metadata": {},
   "source": [
    "$ \\underline{ Question~13~:}$"
   ]
  },
  {
   "cell_type": "code",
   "execution_count": 131,
   "metadata": {},
   "outputs": [
    {
     "name": "stdout",
     "output_type": "stream",
     "text": [
      "La probabilité estimée que la longueur du câble soit supérieure à 525m est 0.65\n"
     ]
    }
   ],
   "source": [
    "def proba525(n):\n",
    "    pop = [longueur(Delta, depth) for k in range(n)]\n",
    "    i = 0 \n",
    "    for k in range(n):\n",
    "        if pop[k]>525 :\n",
    "            i += 1\n",
    "    return(i/n) \n",
    "\n",
    "#utilisation de la loi forte des grands nombres pour estimer cette probabilité\n",
    "\n",
    "print(\"La probabilité estimée que la longueur du câble soit supérieure à 525m est\", proba525(100))"
   ]
  },
  {
   "cell_type": "markdown",
   "metadata": {},
   "source": [
    "$ \\underline{ Question~14~:}$"
   ]
  },
  {
   "cell_type": "markdown",
   "metadata": {},
   "source": [
    "Pour 1000 simulations :"
   ]
  },
  {
   "cell_type": "code",
   "execution_count": 133,
   "metadata": {
    "scrolled": true
   },
   "outputs": [
    {
     "data": {
      "image/png": "[encoded data removed]",
      "text/plain": [
       "<Figure size 432x288 with 1 Axes>"
      ]
     },
     "metadata": {
      "needs_background": "light"
     },
     "output_type": "display_data"
    },
    {
     "name": "stdout",
     "output_type": "stream",
     "text": [
      "L'intervalle de confiance à 95% est [526.7125891902554, 527.2392592443591]\n",
      "La probabilité estimée que la longueur du câble soit supérieure à 525m est 0.668\n"
     ]
    }
   ],
   "source": [
    "plt.hist([simul_longueur(1000) for i in range(100)], bins = 20, edgecolor = 'black')\n",
    "plt.title(\"Histogramme des longueurs du câble du 1000 simulations\")\n",
    "plt.show()\n",
    "\n",
    "print(\"L'intervalle de confiance à 95% est\",int_conf95(1000))\n",
    "\n",
    "print(\"La probabilité estimée que la longueur du câble soit supérieure à 525m est\", proba525(1000))"
   ]
  },
  {
   "cell_type": "markdown",
   "metadata": {},
   "source": [
    "Pour 10000 simulations :"
   ]
  },
  {
   "cell_type": "code",
   "execution_count": 135,
   "metadata": {},
   "outputs": [
    {
     "data": {
      "image/png": "[encoded data removed]",
      "text/plain": [
       "<Figure size 432x288 with 1 Axes>"
      ]
     },
     "metadata": {
      "needs_background": "light"
     },
     "output_type": "display_data"
    },
    {
     "name": "stdout",
     "output_type": "stream",
     "text": [
      "L'intervalle de confiance à 95% est [526.6164608471386, 526.7864211939861]\n",
      "La probabilité estimée que la longueur du câble soit supérieure à 525m est 0.6523\n"
     ]
    }
   ],
   "source": [
    "plt.hist([simul_longueur(10000) for i in range(100)], bins = 20, edgecolor = 'black')\n",
    "plt.title(\"Histogramme des longueurs du câble du 10000 simulations\")\n",
    "plt.show()\n",
    "\n",
    "print(\"L'intervalle de confiance à 95% est\",int_conf95(10000))\n",
    "\n",
    "print(\"La probabilité estimée que la longueur du câble soit supérieure à 525m est\", proba525(10000))"
   ]
  },
  {
   "cell_type": "markdown",
   "metadata": {},
   "source": [
    "Pour 100000 simulations :"
   ]
  },
  {
   "cell_type": "code",
   "execution_count": null,
   "metadata": {},
   "outputs": [],
   "source": [
    "plt.hist([simul_longueur(100000) for i in range(100)], bins = 20, edegcolor = 'black')\n",
    "plt.title(\"Histogramme des longueurs du câble du 100000 simulations\")\n",
    "plt.show()\n",
    "\n",
    "print(\"L'intervalle de confiance à 95% est\", int_conf95(100000))\n",
    "\n",
    "print(\"La probabilité estimée que la longueur du câble soit supérieure à 525m est\", proba525(100000))"
   ]
  }
 ],
 "metadata": {
  "kernelspec": {
   "display_name": "Python 3",
   "language": "python",
   "name": "python3"
  },
  "language_info": {
   "codemirror_mode": {
    "name": "ipython",
    "version": 3
   },
   "file_extension": ".py",
   "mimetype": "text/x-python",
   "name": "python",
   "nbconvert_exporter": "python",
   "pygments_lexer": "ipython3",
   "version": "3.7.4"
  }
 },
 "nbformat": 4,
 "nbformat_minor": 2
}
