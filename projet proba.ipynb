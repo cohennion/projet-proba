{
 "cells": [
  {
   "cell_type": "markdown",
   "metadata": {},
   "source": [
    "# Projet numérique : câbles sous-marins\n",
    "\n",
    "Corentin Hennion, Léa Mailhol \n",
    "\n",
    "## Questions théoiques\n",
    "\n"
   ]
  },
  {
   "cell_type": "markdown",
   "metadata": {},
   "source": [
    "$\\underline{Question 1 :} \\$\n",
    "La loi forte des grands nombres nous autorise à estimer l'espérence conditionnelle par la moyenne empirique des simulations conditionnelles. "
   ]
  },
  {
   "cell_type": "markdown",
   "metadata": {},
   "source": [
    "$ \\underline{Question 2 :}$\n",
    "On note $\\textbf{Z} = \\begin{pmatrix} Z(x_{1})=z(x_{1}) \\\\ ...\\\\...\\\\ Z(x_{N})=z(x_{N}) \\end{pmatrix} $ le vecteur correspond aux variables aléatoires liées aux points de discrétisation sans observation et $\\textbf{W} = \\begin{pmatrix} Z(x_{j_1}) \\\\ ...\\\\...\\\\ Z(x_{j_n}\\end{pmatrix} $ le vecteur correspondant aux variables aléatoires liées aux points d'observation. \n",
    "\n",
    "On cherche la loi de la variable aléatoire $Z|W = w$ où w est le vecteurs des valeurs prises aux points d'observations.\n",
    "\n",
    "On utilise la résulats du chapitre Probabilité 4 car les vecteurs $\\textbf{Z}$ et $\\textbf{W}$ sont des vecteurs gaussiens à densité.\n",
    "\n",
    "On obtient que la foncton de densité de la variable $Z|W = w$ est : \n",
    "\n",
    "$$f_{Z|W = w}(x) = \\frac{1}{(2\\pi)^{(N+1)/2}\\sqrt{det(C)}}exp(-\\frac{1}{2}(x-m_{Z|W=w})^t C^{-1}(x-m_{Z|W=w}))$$\n",
    "\n",
    "\n",
    "Avec $ m_{Z|W=w} = \\mu - C_{Z,W}C_W^{-1}(w-\\mu) $ et $ C = \\Sigma - C_{Z,W}C_w^{-1}C_{W,Z}$\n",
    "\n",
    "La matrice $C_{W,Z}$ a pour coefficients les $C_{W,Z}[i,k] = \\sigma_{ij_k} = |x_i - x_{j_k}|$\n",
    "\n",
    "Donc $Z|W = w$ est un vecteur gaussien à densité d'espérence $ m_{Z|W=w}$ et de matrice de convariance $C$"
   ]
  },
  {
   "cell_type": "code",
   "execution_count": 1,
   "metadata": {},
   "outputs": [],
   "source": [
    "import numpy as np\n",
    "import math\n",
    "import matplotlib.pyplot as plt"
   ]
  },
  {
   "cell_type": "code",
   "execution_count": null,
   "metadata": {},
   "outputs": [],
   "source": [
    "def cov(a , sigma2 , mat_dist) :\n",
    "    N , n = np.shape(mat_dist)\n",
    "    def C(h) :\n",
    "        return sigma2*np.exp(-np.abs(h)/a)\n",
    "    matcov = np.empty((N , N))\n",
    "    for i in range(N) :\n",
    "        for j in range(n) :\n",
    "            matcov[i, j] = C(mat_dist[i, j]) \n",
    "    return matcov"
   ]
  }
 ],
 "metadata": {
  "kernelspec": {
   "display_name": "Python 3",
   "language": "python",
   "name": "python3"
  },
  "language_info": {
   "codemirror_mode": {
    "name": "ipython",
    "version": 3
   },
   "file_extension": ".py",
   "mimetype": "text/x-python",
   "name": "python",
   "nbconvert_exporter": "python",
   "pygments_lexer": "ipython3",
   "version": "3.7.4"
  }
 },
 "nbformat": 4,
 "nbformat_minor": 2
}
